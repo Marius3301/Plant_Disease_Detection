{
 "cells": [
  {
   "cell_type": "code",
   "execution_count": 1,
   "metadata": {},
   "outputs": [],
   "source": [
    "import torch\n",
    "import torchvision\n",
    "import torchvision.transforms as transforms"
   ]
  },
  {
   "cell_type": "code",
   "execution_count": 2,
   "metadata": {},
   "outputs": [],
   "source": [
    "%config IPCompleter.greedy=True"
   ]
  },
  {
   "cell_type": "code",
   "execution_count": 3,
   "metadata": {},
   "outputs": [
    {
     "name": "stdout",
     "output_type": "stream",
     "text": [
      "Files already downloaded and verified\n",
      "Files already downloaded and verified\n"
     ]
    }
   ],
   "source": [
    "transform = transforms.Compose(\n",
    "    [transforms.ToTensor(),\n",
    "     transforms.Normalize((0.5, 0.5, 0.5), (0.5, 0.5, 0.5))])\n",
    "\n",
    "trainset = torchvision.datasets.CIFAR10(root='./data', train=True,\n",
    "                                        download=True, transform=transform)\n",
    "trainloader = torch.utils.data.DataLoader(trainset, batch_size=4,\n",
    "                                          shuffle=True, num_workers=2)\n",
    "\n",
    "testset = torchvision.datasets.CIFAR10(root='./data', train=False,\n",
    "                                       download=True, transform=transform)\n",
    "testloader = torch.utils.data.DataLoader(testset, batch_size=4,\n",
    "                                         shuffle=False, num_workers=2)\n",
    "\n",
    "classes = ('plane', 'car', 'bird', 'cat',\n",
    "           'deer', 'dog', 'frog', 'horse', 'ship', 'truck')"
   ]
  },
  {
   "cell_type": "code",
   "execution_count": 4,
   "metadata": {},
   "outputs": [
    {
     "name": "stdout",
     "output_type": "stream",
     "text": [
      "  car   cat truck horse\n"
     ]
    }
   ],
   "source": [
    "import matplotlib.pyplot as plt\n",
    "import numpy as np\n",
    "\n",
    "# functions to show an image\n",
    "\n",
    "\n",
    "def imshow(img):\n",
    "    img = img / 2 + 0.5     # unnormalize\n",
    "    npimg = img.numpy()\n",
    "    plt.imshow(np.transpose(npimg, (1, 2, 0)))\n",
    "\n",
    "\n",
    "# get some random training images\n",
    "dataiter = iter(trainloader)\n",
    "images, labels = dataiter.next()\n",
    "\n",
    "# show images\n",
    "imshow(torchvision.utils.make_grid(images))\n",
    "# print labels\n",
    "print(' '.join('%5s' % classes[labels[j]] for j in range(4)))"
   ]
  },
  {
   "cell_type": "code",
   "execution_count": 5,
   "metadata": {},
   "outputs": [],
   "source": [
    "import torch.nn as nn\n",
    "import torch.nn.functional as F\n",
    "\n",
    "\n",
    "class Net(nn.Module):\n",
    "    def __init__(self):\n",
    "        super(Net, self).__init__()\n",
    "        self.conv1 = nn.Conv2d(3, 6, 5)\n",
    "        self.pool = nn.MaxPool2d(2, 2)\n",
    "        self.conv2 = nn.Conv2d(6, 16, 5)\n",
    "        self.conv2_bn=nn.BatchNorm2d(16)\n",
    "        self.fc1 = nn.Linear(16 * 5 * 5, 120)\n",
    "        self.fc2 = nn.Linear(120, 84)\n",
    "        self.fc3 = nn.Linear(84, 10)\n",
    "        self.drop1=nn.Dropout(p=0.2)\n",
    "        self.drop2=nn.Dropout(p=0.5)\n",
    "\n",
    "    def forward(self, x):\n",
    "        x = self.pool(F.relu(self.conv1(x)))\n",
    "        x = self.pool(F.relu(self.conv2_bn(self.conv2(x))))\n",
    "        x = x.view(-1, 16 * 5 * 5)\n",
    "        x = self.drop1(x)\n",
    "        x = F.relu(self.fc1(x))\n",
    "        x=self.drop2(x)\n",
    "        x = F.relu(self.fc2(x))\n",
    "        x = self.fc3(x)\n",
    "        return x\n",
    "\n",
    "\n",
    "net = Net()"
   ]
  },
  {
   "cell_type": "code",
   "execution_count": 6,
   "metadata": {},
   "outputs": [],
   "source": [
    "import torch.optim as optim\n",
    "\n",
    "criterion = nn.CrossEntropyLoss()\n",
    "optimizer = optim.SGD(net.parameters(), lr=0.001, momentum=0.9)"
   ]
  },
  {
   "cell_type": "code",
   "execution_count": 17,
   "metadata": {},
   "outputs": [
    {
     "name": "stdout",
     "output_type": "stream",
     "text": [
      "[65.36, 66.51, 63.15]\n",
      "[70.358, 71.294, 68.316]\n",
      "[65.36, 66.51, 63.15, 66.08]\n",
      "[70.358, 71.294, 68.316, 71.282]\n",
      "[65.36, 66.51, 63.15, 66.08, 65.39]\n",
      "[70.358, 71.294, 68.316, 71.282, 69.826]\n",
      "[65.36, 66.51, 63.15, 66.08, 65.39, 66.2]\n",
      "[70.358, 71.294, 68.316, 71.282, 69.826, 70.898]\n",
      "[65.36, 66.51, 63.15, 66.08, 65.39, 66.2, 64.35]\n",
      "[70.358, 71.294, 68.316, 71.282, 69.826, 70.898, 69.848]\n",
      "[65.36, 66.51, 63.15, 66.08, 65.39, 66.2, 64.35, 65.65]\n",
      "[70.358, 71.294, 68.316, 71.282, 69.826, 70.898, 69.848, 70.488]\n",
      "[65.36, 66.51, 63.15, 66.08, 65.39, 66.2, 64.35, 65.65, 66.85]\n",
      "[70.358, 71.294, 68.316, 71.282, 69.826, 70.898, 69.848, 70.488, 72.264]\n",
      "[65.36, 66.51, 63.15, 66.08, 65.39, 66.2, 64.35, 65.65, 66.85, 67.77]\n",
      "[70.358, 71.294, 68.316, 71.282, 69.826, 70.898, 69.848, 70.488, 72.264, 72.906]\n",
      "[65.36, 66.51, 63.15, 66.08, 65.39, 66.2, 64.35, 65.65, 66.85, 67.77, 66.8]\n",
      "[70.358, 71.294, 68.316, 71.282, 69.826, 70.898, 69.848, 70.488, 72.264, 72.906, 71.534]\n",
      "[65.36, 66.51, 63.15, 66.08, 65.39, 66.2, 64.35, 65.65, 66.85, 67.77, 66.8, 66.62]\n",
      "[70.358, 71.294, 68.316, 71.282, 69.826, 70.898, 69.848, 70.488, 72.264, 72.906, 71.534, 72.164]\n",
      "[65.36, 66.51, 63.15, 66.08, 65.39, 66.2, 64.35, 65.65, 66.85, 67.77, 66.8, 66.62, 66.15]\n",
      "[70.358, 71.294, 68.316, 71.282, 69.826, 70.898, 69.848, 70.488, 72.264, 72.906, 71.534, 72.164, 71.568]\n",
      "[65.36, 66.51, 63.15, 66.08, 65.39, 66.2, 64.35, 65.65, 66.85, 67.77, 66.8, 66.62, 66.15, 65.29]\n",
      "[70.358, 71.294, 68.316, 71.282, 69.826, 70.898, 69.848, 70.488, 72.264, 72.906, 71.534, 72.164, 71.568, 70.65]\n",
      "[65.36, 66.51, 63.15, 66.08, 65.39, 66.2, 64.35, 65.65, 66.85, 67.77, 66.8, 66.62, 66.15, 65.29, 67.24]\n",
      "[70.358, 71.294, 68.316, 71.282, 69.826, 70.898, 69.848, 70.488, 72.264, 72.906, 71.534, 72.164, 71.568, 70.65, 72.142]\n",
      "[65.36, 66.51, 63.15, 66.08, 65.39, 66.2, 64.35, 65.65, 66.85, 67.77, 66.8, 66.62, 66.15, 65.29, 67.24, 65.88]\n",
      "[70.358, 71.294, 68.316, 71.282, 69.826, 70.898, 69.848, 70.488, 72.264, 72.906, 71.534, 72.164, 71.568, 70.65, 72.142, 71.118]\n",
      "[65.36, 66.51, 63.15, 66.08, 65.39, 66.2, 64.35, 65.65, 66.85, 67.77, 66.8, 66.62, 66.15, 65.29, 67.24, 65.88, 66.14]\n",
      "[70.358, 71.294, 68.316, 71.282, 69.826, 70.898, 69.848, 70.488, 72.264, 72.906, 71.534, 72.164, 71.568, 70.65, 72.142, 71.118, 72.252]\n",
      "Finished Training\n"
     ]
    }
   ],
   "source": [
    "#training_loss=[]\n",
    "#test_loss=[]\n",
    "#training_acc=[]\n",
    "#test_acc=[]\n",
    "for epoch in range(15):  # loop over the dataset multiple times\n",
    "\n",
    "    running_loss = 0.0\n",
    "    net.train()\n",
    "    for i, data in enumerate(trainloader, 0):\n",
    "        # get the inputs\n",
    "        inputs, labels = data\n",
    "\n",
    "        # zero the parameter gradients\n",
    "        optimizer.zero_grad()\n",
    "\n",
    "        # forward + backward + optimize\n",
    "        outputs = net(inputs)\n",
    "        loss = criterion(outputs, labels)\n",
    "        loss.backward()\n",
    "        optimizer.step()\n",
    "\n",
    "        # print statistics\n",
    "        running_loss += loss.item()  \n",
    "    training_loss.append(running_loss/(i+1))\n",
    "    #train_accuracy\n",
    "    class_correct = list(0. for i in range(10))\n",
    "    class_total = list(0. for i in range(10))\n",
    "    total=0\n",
    "    correct=0\n",
    "    net.eval()\n",
    "    with torch.no_grad():\n",
    "        for data in trainloader:\n",
    "            images, labels = data\n",
    "            outputs = net(images)\n",
    "            _, predicted = torch.max(outputs, 1)\n",
    "            total += labels.size(0)\n",
    "            correct += (predicted == labels).sum().item()\n",
    "    training_acc.append(100 * correct / total)\n",
    "    \n",
    "    #validation loss\n",
    "    running_loss = 0.0\n",
    "    with torch.no_grad():\n",
    "        net.eval()\n",
    "        for i, data in enumerate(testloader, 0):\n",
    "            \n",
    "            inputs, labels = data\n",
    "\n",
    "            optimizer.zero_grad()\n",
    "\n",
    "            outputs = net(inputs)\n",
    "            loss = criterion(outputs, labels)\n",
    "\n",
    "            running_loss += loss.item()\n",
    "    test_loss.append(running_loss/(i+1))\n",
    "        \n",
    "    #test_accuracy\n",
    "    class_correct = list(0. for i in range(10))\n",
    "    class_total = list(0. for i in range(10))\n",
    "    total=0\n",
    "    correct=0\n",
    "    with torch.no_grad():\n",
    "        for data in testloader:\n",
    "            images, labels = data\n",
    "            outputs = net(images)\n",
    "            _, predicted = torch.max(outputs, 1)\n",
    "            total += labels.size(0)\n",
    "            correct += (predicted == labels).sum().item()\n",
    "    test_acc.append(100 * correct / total)\n",
    "    print(test_acc[44:])\n",
    "    print(training_acc[44:])\n",
    "        \n",
    "print('Finished Training')"
   ]
  },
  {
   "cell_type": "code",
   "execution_count": 18,
   "metadata": {},
   "outputs": [
    {
     "data": {
      "text/plain": [
       "<matplotlib.legend.Legend at 0xd6320d38d0>"
      ]
     },
     "execution_count": 18,
     "metadata": {},
     "output_type": "execute_result"
    },
    {
     "data": {
      "image/png": "[encoded data removed]",
      "text/plain": [
       "<Figure size 432x288 with 1 Axes>"
      ]
     },
     "metadata": {
      "needs_background": "light"
     },
     "output_type": "display_data"
    }
   ],
   "source": [
    "epoch=list(i for i in range(1,len(training_loss)+1))\n",
    "plt.plot(epoch, training_loss, 'b', label='Training loss')\n",
    "plt.plot(epoch, test_loss, 'r', label='Test loss')\n",
    "plt.title('Training and Validation accurarcy')\n",
    "plt.legend()"
   ]
  },
  {
   "cell_type": "code",
   "execution_count": 19,
   "metadata": {},
   "outputs": [
    {
     "data": {
      "text/plain": [
       "<matplotlib.legend.Legend at 0xd631fb0f98>"
      ]
     },
     "execution_count": 19,
     "metadata": {},
     "output_type": "execute_result"
    },
    {
     "data": {
      "image/png": "[encoded data removed]",
      "text/plain": [
       "<Figure size 432x288 with 1 Axes>"
      ]
     },
     "metadata": {
      "needs_background": "light"
     },
     "output_type": "display_data"
    }
   ],
   "source": [
    "plt.plot(epoch, training_acc, 'b', label='Training acc')\n",
    "plt.plot(epoch, test_acc, 'r', label='Test acc')\n",
    "plt.title('Training and Validation accurarcy')\n",
    "plt.legend()"
   ]
  },
  {
   "cell_type": "code",
   "execution_count": 10,
   "metadata": {},
   "outputs": [],
   "source": [
    "PATH = './cifar_net_batchn_dropout.pth'\n",
    "torch.save(net.state_dict(), PATH)"
   ]
  },
  {
   "cell_type": "code",
   "execution_count": null,
   "metadata": {},
   "outputs": [],
   "source": [
    "dataiter = iter(testloader)\n",
    "images, labels = dataiter.next()\n",
    "\n",
    "# print images\n",
    "imshow(torchvision.utils.make_grid(images))\n",
    "print('GroundTruth: ', ' '.join('%5s' % classes[labels[j]] for j in range(4)))"
   ]
  },
  {
   "cell_type": "code",
   "execution_count": null,
   "metadata": {},
   "outputs": [],
   "source": [
    "net = Net()\n",
    "net.load_state_dict(torch.load(PATH))"
   ]
  },
  {
   "cell_type": "code",
   "execution_count": null,
   "metadata": {},
   "outputs": [],
   "source": [
    "outputs = net(images)"
   ]
  },
  {
   "cell_type": "code",
   "execution_count": null,
   "metadata": {},
   "outputs": [],
   "source": [
    "_, predicted = torch.max(outputs, 1)\n",
    "\n",
    "print('Predicted: ', ' '.join('%5s' % classes[predicted[j]]\n",
    "                              for j in range(4)))"
   ]
  },
  {
   "cell_type": "code",
   "execution_count": 32,
   "metadata": {},
   "outputs": [
    {
     "name": "stdout",
     "output_type": "stream",
     "text": [
      "Accuracy of the network on the 10000 test images: 58 %\n"
     ]
    }
   ],
   "source": [
    "correct = 0\n",
    "total = 0\n",
    "with torch.no_grad():\n",
    "    for data in testloader:\n",
    "        images, labels = data\n",
    "        outputs = net(images)\n",
    "        _, predicted = torch.max(outputs.data, 1)\n",
    "        total += labels.size(0)\n",
    "        correct += (predicted == labels).sum().item()\n",
    "\n",
    "print('Accuracy of the network on the 10000 test images: %d %%' % (\n",
    "    100 * correct / total))"
   ]
  },
  {
   "cell_type": "code",
   "execution_count": 42,
   "metadata": {},
   "outputs": [
    {
     "name": "stdout",
     "output_type": "stream",
     "text": [
      "Accuracy of plane : 56 %\n",
      "Accuracy of   car : 83 %\n",
      "Accuracy of  bird : 30 %\n",
      "Accuracy of   cat : 34 %\n",
      "Accuracy of  deer : 41 %\n",
      "Accuracy of   dog : 54 %\n",
      "Accuracy of  frog : 62 %\n",
      "Accuracy of horse : 77 %\n",
      "Accuracy of  ship : 76 %\n",
      "Accuracy of truck : 66 %\n"
     ]
    }
   ],
   "source": [
    "class_correct = list(0. for i in range(10))\n",
    "class_total = list(0. for i in range(10))\n",
    "test_acc=[]\n",
    "with torch.no_grad():\n",
    "    for data in testloader:\n",
    "        images, labels = data\n",
    "        outputs = net(images)\n",
    "        _, predicted = torch.max(outputs, 1)\n",
    "        c = (predicted == labels).squeeze()\n",
    "        for i in range(4):\n",
    "            label = labels[i]\n",
    "            class_correct[label] += c[i].item()\n",
    "            class_total[label] += 1\n",
    "\n",
    "\n",
    "for i in range(10):\n",
    "    print('Accuracy of %5s : %2d %%' % (\n",
    "        classes[i], 100 * class_correct[i] / class_total[i]))\n",
    "    test_acc.append(100 * class_correct[i] / class_total[i])"
   ]
  },
  {
   "cell_type": "code",
   "execution_count": 44,
   "metadata": {},
   "outputs": [
    {
     "name": "stdout",
     "output_type": "stream",
     "text": [
      "Accuracy of plane : 60 %\n",
      "Accuracy of   car : 88 %\n",
      "Accuracy of  bird : 36 %\n",
      "Accuracy of   cat : 35 %\n",
      "Accuracy of  deer : 48 %\n",
      "Accuracy of   dog : 59 %\n",
      "Accuracy of  frog : 64 %\n",
      "Accuracy of horse : 81 %\n",
      "Accuracy of  ship : 81 %\n",
      "Accuracy of truck : 69 %\n"
     ]
    }
   ],
   "source": [
    "class_correct = list(0. for i in range(10))\n",
    "class_total = list(0. for i in range(10))\n",
    "train_acc=[]\n",
    "with torch.no_grad():\n",
    "    for data in trainloader:\n",
    "        images, labels = data\n",
    "        outputs = net(images)\n",
    "        _, predicted = torch.max(outputs, 1)\n",
    "        c = (predicted == labels).squeeze()\n",
    "        for i in range(4):\n",
    "            label = labels[i]\n",
    "            class_correct[label] += c[i].item()\n",
    "            class_total[label] += 1\n",
    "\n",
    "\n",
    "for i in range(10):\n",
    "    print('Accuracy of %5s : %2d %%' % (\n",
    "        classes[i], 100 * class_correct[i] / class_total[i]))\n",
    "    train_acc.append(100 * class_correct[i] / class_total[i])"
   ]
  },
  {
   "cell_type": "code",
   "execution_count": 47,
   "metadata": {},
   "outputs": [
    {
     "data": {
      "text/plain": [
       "<matplotlib.legend.Legend at 0x39007fbd68>"
      ]
     },
     "execution_count": 47,
     "metadata": {},
     "output_type": "execute_result"
    },
    {
     "data": {
      "image/png": "[encoded data removed]",
      "text/plain": [
       "<Figure size 432x288 with 1 Axes>"
      ]
     },
     "metadata": {
      "needs_background": "light"
     },
     "output_type": "display_data"
    }
   ],
   "source": [
    "plt.plot(classes, train_acc, 'b', label='Training accurarcy')\n",
    "plt.plot(classes, test_acc, 'r', label='Test accurarcy')\n",
    "plt.title('Training and Validation accurarcy')\n",
    "plt.legend()"
   ]
  },
  {
   "cell_type": "code",
   "execution_count": null,
   "metadata": {},
   "outputs": [],
   "source": []
  }
 ],
 "metadata": {
  "kernelspec": {
   "display_name": "Python 3",
   "language": "python",
   "name": "python3"
  },
  "language_info": {
   "codemirror_mode": {
    "name": "ipython",
    "version": 3
   },
   "file_extension": ".py",
   "mimetype": "text/x-python",
   "name": "python",
   "nbconvert_exporter": "python",
   "pygments_lexer": "ipython3",
   "version": "3.7.3"
  }
 },
 "nbformat": 4,
 "nbformat_minor": 2
}
